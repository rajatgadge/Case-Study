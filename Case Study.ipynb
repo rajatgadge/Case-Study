{
 "cells": [
  {
   "cell_type": "markdown",
   "metadata": {},
   "source": [
    "## Case Study - Shoes price prediction"
   ]
  },
  {
   "cell_type": "markdown",
   "metadata": {},
   "source": [
    "### Objective:"
   ]
  },
  {
   "cell_type": "markdown",
   "metadata": {},
   "source": [
    "Predicting shoes price for the customers of Zshoes."
   ]
  },
  {
   "cell_type": "markdown",
   "metadata": {},
   "source": [
    "### Problem Statement:"
   ]
  },
  {
   "cell_type": "markdown",
   "metadata": {},
   "source": [
    "Zshoes.com is one of the famous shoe manufacturers of India and has business in\n",
    "almost every country in Asia and Europe. They are one of the best choices of all the\n",
    "athletics and they make the best shoes for running. Due to pandemic, they are facing a\n",
    "loss as Zshoes are a bit expensive. They want to know the correct price of all types of\n",
    "shoes that they are manufacturing so that they won’t face any loss and at the same\n",
    "time customers also buy the shoes. As a machine learning engineer, we have to build a\n",
    "shoe-price prediction app that can predict the correct shoe price by taking inputs like\n",
    "freight_value,payment_type, etc."
   ]
  },
  {
   "cell_type": "code",
   "execution_count": 122,
   "metadata": {},
   "outputs": [],
   "source": [
    "import pandas as pd\n",
    "import numpy as np\n",
    "import matplotlib.pyplot as plt\n",
    "import plotly.express as px\n",
    "import seaborn as sns\n",
    "from warnings import filterwarnings\n",
    "filterwarnings('ignore')\n",
    "from sklearn.preprocessing import StandardScaler \n",
    "from sklearn.model_selection import train_test_split\n",
    "from sklearn.linear_model import LinearRegression\n",
    "from sklearn.neighbors import KNeighborsRegressor\n",
    "import scipy as sp\n",
    "from sklearn.tree import DecisionTreeRegressor\n",
    "from sklearn.ensemble import RandomForestRegressor\n",
    "from sklearn.ensemble import ExtraTreesRegressor\n",
    "from xgboost import XGBRegressor\n",
    "import sklearn.metrics as metrics\n",
    "from sklearn.metrics import mean_squared_error, mean_absolute_error, r2_score\n",
    "import statsmodels\n",
    "import statsmodels.api as sm\n",
    "from sklearn.model_selection import cross_val_score,KFold\n",
    "from sklearn.model_selection import cross_validate"
   ]
  },
  {
   "cell_type": "markdown",
   "metadata": {},
   "source": [
    "#### Importing Data Set"
   ]
  },
  {
   "cell_type": "code",
   "execution_count": 74,
   "metadata": {},
   "outputs": [],
   "source": [
    "df = pd.read_csv('product_data.csv')"
   ]
  },
  {
   "cell_type": "code",
   "execution_count": 75,
   "metadata": {},
   "outputs": [
    {
     "data": {
      "text/html": [
       "<div>\n",
       "<style scoped>\n",
       "    .dataframe tbody tr th:only-of-type {\n",
       "        vertical-align: middle;\n",
       "    }\n",
       "\n",
       "    .dataframe tbody tr th {\n",
       "        vertical-align: top;\n",
       "    }\n",
       "\n",
       "    .dataframe thead th {\n",
       "        text-align: right;\n",
       "    }\n",
       "</style>\n",
       "<table border=\"1\" class=\"dataframe\">\n",
       "  <thead>\n",
       "    <tr style=\"text-align: right;\">\n",
       "      <th></th>\n",
       "      <th>order_item_id</th>\n",
       "      <th>price</th>\n",
       "      <th>freight_value</th>\n",
       "      <th>payment_sequential</th>\n",
       "      <th>payment_type</th>\n",
       "      <th>payment_installments</th>\n",
       "      <th>payment_value</th>\n",
       "    </tr>\n",
       "  </thead>\n",
       "  <tbody>\n",
       "    <tr>\n",
       "      <th>0</th>\n",
       "      <td>1</td>\n",
       "      <td>58.90</td>\n",
       "      <td>13.29</td>\n",
       "      <td>1</td>\n",
       "      <td>1</td>\n",
       "      <td>2</td>\n",
       "      <td>72.19</td>\n",
       "    </tr>\n",
       "    <tr>\n",
       "      <th>1</th>\n",
       "      <td>1</td>\n",
       "      <td>239.90</td>\n",
       "      <td>19.93</td>\n",
       "      <td>1</td>\n",
       "      <td>1</td>\n",
       "      <td>3</td>\n",
       "      <td>259.83</td>\n",
       "    </tr>\n",
       "    <tr>\n",
       "      <th>2</th>\n",
       "      <td>1</td>\n",
       "      <td>199.00</td>\n",
       "      <td>17.87</td>\n",
       "      <td>1</td>\n",
       "      <td>1</td>\n",
       "      <td>5</td>\n",
       "      <td>216.87</td>\n",
       "    </tr>\n",
       "    <tr>\n",
       "      <th>3</th>\n",
       "      <td>1</td>\n",
       "      <td>12.99</td>\n",
       "      <td>12.79</td>\n",
       "      <td>1</td>\n",
       "      <td>1</td>\n",
       "      <td>2</td>\n",
       "      <td>25.78</td>\n",
       "    </tr>\n",
       "    <tr>\n",
       "      <th>4</th>\n",
       "      <td>1</td>\n",
       "      <td>199.90</td>\n",
       "      <td>18.14</td>\n",
       "      <td>1</td>\n",
       "      <td>1</td>\n",
       "      <td>3</td>\n",
       "      <td>218.04</td>\n",
       "    </tr>\n",
       "  </tbody>\n",
       "</table>\n",
       "</div>"
      ],
      "text/plain": [
       "   order_item_id   price  freight_value  payment_sequential  payment_type  \\\n",
       "0              1   58.90          13.29                   1             1   \n",
       "1              1  239.90          19.93                   1             1   \n",
       "2              1  199.00          17.87                   1             1   \n",
       "3              1   12.99          12.79                   1             1   \n",
       "4              1  199.90          18.14                   1             1   \n",
       "\n",
       "   payment_installments  payment_value  \n",
       "0                     2          72.19  \n",
       "1                     3         259.83  \n",
       "2                     5         216.87  \n",
       "3                     2          25.78  \n",
       "4                     3         218.04  "
      ]
     },
     "execution_count": 75,
     "metadata": {},
     "output_type": "execute_result"
    }
   ],
   "source": [
    "df.head()"
   ]
  },
  {
   "cell_type": "code",
   "execution_count": 76,
   "metadata": {},
   "outputs": [
    {
     "data": {
      "text/plain": [
       "(101335, 7)"
      ]
     },
     "execution_count": 76,
     "metadata": {},
     "output_type": "execute_result"
    }
   ],
   "source": [
    "df.shape"
   ]
  },
  {
   "cell_type": "code",
   "execution_count": 77,
   "metadata": {
    "scrolled": true
   },
   "outputs": [
    {
     "data": {
      "text/plain": [
       "order_item_id             int64\n",
       "price                   float64\n",
       "freight_value           float64\n",
       "payment_sequential        int64\n",
       "payment_type              int64\n",
       "payment_installments      int64\n",
       "payment_value           float64\n",
       "dtype: object"
      ]
     },
     "execution_count": 77,
     "metadata": {},
     "output_type": "execute_result"
    }
   ],
   "source": [
    "df.dtypes"
   ]
  },
  {
   "cell_type": "markdown",
   "metadata": {},
   "source": [
    "Payment Type is categorical feature. We need to convert it."
   ]
  },
  {
   "cell_type": "code",
   "execution_count": 78,
   "metadata": {},
   "outputs": [],
   "source": [
    "df['payment_type'] = df['payment_type'].astype('object')"
   ]
  },
  {
   "cell_type": "markdown",
   "metadata": {},
   "source": [
    "Lets check the data types again."
   ]
  },
  {
   "cell_type": "code",
   "execution_count": 79,
   "metadata": {
    "scrolled": true
   },
   "outputs": [
    {
     "data": {
      "text/plain": [
       "order_item_id             int64\n",
       "price                   float64\n",
       "freight_value           float64\n",
       "payment_sequential        int64\n",
       "payment_type             object\n",
       "payment_installments      int64\n",
       "payment_value           float64\n",
       "dtype: object"
      ]
     },
     "execution_count": 79,
     "metadata": {},
     "output_type": "execute_result"
    }
   ],
   "source": [
    "df.dtypes"
   ]
  },
  {
   "cell_type": "markdown",
   "metadata": {},
   "source": [
    "Order item Id is insignificant. Let's drop it."
   ]
  },
  {
   "cell_type": "code",
   "execution_count": 80,
   "metadata": {},
   "outputs": [],
   "source": [
    "df = df.drop('order_item_id', axis = 1)"
   ]
  },
  {
   "cell_type": "markdown",
   "metadata": {},
   "source": [
    "#### Let's see if we have any missing values."
   ]
  },
  {
   "cell_type": "code",
   "execution_count": 81,
   "metadata": {
    "scrolled": false
   },
   "outputs": [
    {
     "data": {
      "text/html": [
       "<div>\n",
       "<style scoped>\n",
       "    .dataframe tbody tr th:only-of-type {\n",
       "        vertical-align: middle;\n",
       "    }\n",
       "\n",
       "    .dataframe tbody tr th {\n",
       "        vertical-align: top;\n",
       "    }\n",
       "\n",
       "    .dataframe thead th {\n",
       "        text-align: right;\n",
       "    }\n",
       "</style>\n",
       "<table border=\"1\" class=\"dataframe\">\n",
       "  <thead>\n",
       "    <tr style=\"text-align: right;\">\n",
       "      <th></th>\n",
       "      <th>Total</th>\n",
       "      <th>Percentage of Missing Values</th>\n",
       "    </tr>\n",
       "  </thead>\n",
       "  <tbody>\n",
       "    <tr>\n",
       "      <th>payment_value</th>\n",
       "      <td>0</td>\n",
       "      <td>0.0</td>\n",
       "    </tr>\n",
       "    <tr>\n",
       "      <th>payment_installments</th>\n",
       "      <td>0</td>\n",
       "      <td>0.0</td>\n",
       "    </tr>\n",
       "    <tr>\n",
       "      <th>payment_type</th>\n",
       "      <td>0</td>\n",
       "      <td>0.0</td>\n",
       "    </tr>\n",
       "    <tr>\n",
       "      <th>payment_sequential</th>\n",
       "      <td>0</td>\n",
       "      <td>0.0</td>\n",
       "    </tr>\n",
       "    <tr>\n",
       "      <th>freight_value</th>\n",
       "      <td>0</td>\n",
       "      <td>0.0</td>\n",
       "    </tr>\n",
       "    <tr>\n",
       "      <th>price</th>\n",
       "      <td>0</td>\n",
       "      <td>0.0</td>\n",
       "    </tr>\n",
       "  </tbody>\n",
       "</table>\n",
       "</div>"
      ],
      "text/plain": [
       "                      Total  Percentage of Missing Values\n",
       "payment_value             0                           0.0\n",
       "payment_installments      0                           0.0\n",
       "payment_type              0                           0.0\n",
       "payment_sequential        0                           0.0\n",
       "freight_value             0                           0.0\n",
       "price                     0                           0.0"
      ]
     },
     "execution_count": 81,
     "metadata": {},
     "output_type": "execute_result"
    }
   ],
   "source": [
    "Total = df.isnull().sum().sort_values(ascending=False)  \n",
    "Percent = (df.isnull().sum()*100/df.isnull().count()).sort_values(ascending=False)\n",
    "missing_data = pd.concat([Total, Percent], axis = 1, keys = ['Total', 'Percentage of Missing Values'])    \n",
    "missing_data"
   ]
  },
  {
   "cell_type": "markdown",
   "metadata": {},
   "source": [
    "There are no missing values!!!"
   ]
  },
  {
   "cell_type": "markdown",
   "metadata": {},
   "source": [
    "### Split the dependent and independent variables"
   ]
  },
  {
   "cell_type": "code",
   "execution_count": 82,
   "metadata": {},
   "outputs": [],
   "source": [
    "\n",
    "df_target = df['price']\n",
    "df_feature = df.drop('price', axis = 1)"
   ]
  },
  {
   "cell_type": "markdown",
   "metadata": {},
   "source": [
    "### Separating numerical and categorical variables."
   ]
  },
  {
   "cell_type": "code",
   "execution_count": 83,
   "metadata": {},
   "outputs": [
    {
     "data": {
      "text/plain": [
       "Index(['freight_value', 'payment_sequential', 'payment_installments',\n",
       "       'payment_value'],\n",
       "      dtype='object')"
      ]
     },
     "execution_count": 83,
     "metadata": {},
     "output_type": "execute_result"
    }
   ],
   "source": [
    "\n",
    "df_num = df_feature.select_dtypes(include = [np.number])\n",
    "df_num.columns"
   ]
  },
  {
   "cell_type": "code",
   "execution_count": 84,
   "metadata": {},
   "outputs": [
    {
     "data": {
      "text/plain": [
       "Index(['payment_type'], dtype='object')"
      ]
     },
     "execution_count": 84,
     "metadata": {},
     "output_type": "execute_result"
    }
   ],
   "source": [
    "df_cat = df_feature.select_dtypes(include = [np.object])\n",
    "df_cat.columns"
   ]
  },
  {
   "cell_type": "markdown",
   "metadata": {},
   "source": [
    "#### Dummy encoding of Cateogrical Variables"
   ]
  },
  {
   "cell_type": "code",
   "execution_count": 85,
   "metadata": {},
   "outputs": [],
   "source": [
    "#dummy encoding\n",
    "dummy_var = pd.get_dummies(data = df_cat, drop_first = True)"
   ]
  },
  {
   "cell_type": "markdown",
   "metadata": {},
   "source": [
    "### Scaling of Numerical Variables"
   ]
  },
  {
   "cell_type": "code",
   "execution_count": 86,
   "metadata": {},
   "outputs": [],
   "source": [
    "\n",
    "X_scaler = StandardScaler()\n",
    "\n",
    "num_scaled = X_scaler.fit_transform(df_num)\n",
    "\n",
    "df_num_scaled = pd.DataFrame(num_scaled, columns = df_num.columns)\n",
    "\n",
    "y = (df_target - df_target.mean()) / df_target.std()"
   ]
  },
  {
   "cell_type": "markdown",
   "metadata": {},
   "source": [
    "### Concatenate scaled numerical and dummy encoded categorical variables."
   ]
  },
  {
   "cell_type": "code",
   "execution_count": 87,
   "metadata": {
    "scrolled": true
   },
   "outputs": [
    {
     "data": {
      "text/html": [
       "<div>\n",
       "<style scoped>\n",
       "    .dataframe tbody tr th:only-of-type {\n",
       "        vertical-align: middle;\n",
       "    }\n",
       "\n",
       "    .dataframe tbody tr th {\n",
       "        vertical-align: top;\n",
       "    }\n",
       "\n",
       "    .dataframe thead th {\n",
       "        text-align: right;\n",
       "    }\n",
       "</style>\n",
       "<table border=\"1\" class=\"dataframe\">\n",
       "  <thead>\n",
       "    <tr style=\"text-align: right;\">\n",
       "      <th></th>\n",
       "      <th>freight_value</th>\n",
       "      <th>payment_sequential</th>\n",
       "      <th>payment_installments</th>\n",
       "      <th>payment_value</th>\n",
       "      <th>payment_type_2</th>\n",
       "      <th>payment_type_3</th>\n",
       "      <th>payment_type_4</th>\n",
       "    </tr>\n",
       "  </thead>\n",
       "  <tbody>\n",
       "    <tr>\n",
       "      <th>0</th>\n",
       "      <td>-0.477304</td>\n",
       "      <td>-0.129873</td>\n",
       "      <td>-0.266094</td>\n",
       "      <td>-0.417421</td>\n",
       "      <td>0</td>\n",
       "      <td>0</td>\n",
       "      <td>0</td>\n",
       "    </tr>\n",
       "    <tr>\n",
       "      <th>1</th>\n",
       "      <td>0.639938</td>\n",
       "      <td>-0.129873</td>\n",
       "      <td>0.130054</td>\n",
       "      <td>1.090727</td>\n",
       "      <td>0</td>\n",
       "      <td>0</td>\n",
       "      <td>0</td>\n",
       "    </tr>\n",
       "    <tr>\n",
       "      <th>2</th>\n",
       "      <td>0.293324</td>\n",
       "      <td>-0.129873</td>\n",
       "      <td>0.922350</td>\n",
       "      <td>0.745438</td>\n",
       "      <td>0</td>\n",
       "      <td>0</td>\n",
       "      <td>0</td>\n",
       "    </tr>\n",
       "    <tr>\n",
       "      <th>3</th>\n",
       "      <td>-0.561433</td>\n",
       "      <td>-0.129873</td>\n",
       "      <td>-0.266094</td>\n",
       "      <td>-0.790440</td>\n",
       "      <td>0</td>\n",
       "      <td>0</td>\n",
       "      <td>0</td>\n",
       "    </tr>\n",
       "    <tr>\n",
       "      <th>4</th>\n",
       "      <td>0.338754</td>\n",
       "      <td>-0.129873</td>\n",
       "      <td>0.130054</td>\n",
       "      <td>0.754842</td>\n",
       "      <td>0</td>\n",
       "      <td>0</td>\n",
       "      <td>0</td>\n",
       "    </tr>\n",
       "  </tbody>\n",
       "</table>\n",
       "</div>"
      ],
      "text/plain": [
       "   freight_value  payment_sequential  payment_installments  payment_value  \\\n",
       "0      -0.477304           -0.129873             -0.266094      -0.417421   \n",
       "1       0.639938           -0.129873              0.130054       1.090727   \n",
       "2       0.293324           -0.129873              0.922350       0.745438   \n",
       "3      -0.561433           -0.129873             -0.266094      -0.790440   \n",
       "4       0.338754           -0.129873              0.130054       0.754842   \n",
       "\n",
       "   payment_type_2  payment_type_3  payment_type_4  \n",
       "0               0               0               0  \n",
       "1               0               0               0  \n",
       "2               0               0               0  \n",
       "3               0               0               0  \n",
       "4               0               0               0  "
      ]
     },
     "execution_count": 87,
     "metadata": {},
     "output_type": "execute_result"
    }
   ],
   "source": [
    "\n",
    "X = pd.concat([df_num_scaled, dummy_var], axis = 1)\n",
    "\n",
    "X.head()"
   ]
  },
  {
   "cell_type": "markdown",
   "metadata": {},
   "source": [
    "### Data Visualization"
   ]
  },
  {
   "cell_type": "code",
   "execution_count": 111,
   "metadata": {},
   "outputs": [
    {
     "data": {
      "image/png": "[encoded data removed]",
      "text/plain": [
       "<Figure size 1296x432 with 1 Axes>"
      ]
     },
     "metadata": {
      "needs_background": "light"
     },
     "output_type": "display_data"
    }
   ],
   "source": [
    "plt.figure(figsize=(18,6))\n",
    "sns.countplot(x = df_cat['payment_type'])\n",
    "plt.show()"
   ]
  },
  {
   "cell_type": "code",
   "execution_count": 112,
   "metadata": {},
   "outputs": [
    {
     "data": {
      "image/png": "[encoded data removed]",
      "text/plain": [
       "<Figure size 1296x432 with 1 Axes>"
      ]
     },
     "metadata": {
      "needs_background": "light"
     },
     "output_type": "display_data"
    }
   ],
   "source": [
    "plt.figure(figsize=(18,6))\n",
    "plt.hist(data=df, x=\"freight_value\")\n",
    "plt.xlabel('freight_value')\n",
    "plt.show()"
   ]
  },
  {
   "cell_type": "code",
   "execution_count": 113,
   "metadata": {},
   "outputs": [
    {
     "data": {
      "text/plain": [
       "<matplotlib.axes._subplots.AxesSubplot at 0x1bcc9109148>"
      ]
     },
     "execution_count": 113,
     "metadata": {},
     "output_type": "execute_result"
    },
    {
     "data": {
      "image/png": "[encoded data removed]",
      "text/plain": [
       "<Figure size 1296x432 with 1 Axes>"
      ]
     },
     "metadata": {
      "needs_background": "light"
     },
     "output_type": "display_data"
    }
   ],
   "source": [
    "plt.figure(figsize=(18,6))\n",
    "sns.countplot(df[\"payment_sequential\"])"
   ]
  },
  {
   "cell_type": "code",
   "execution_count": 118,
   "metadata": {
    "scrolled": true
   },
   "outputs": [
    {
     "data": {
      "text/plain": [
       "<matplotlib.axes._subplots.AxesSubplot at 0x1bcc91c4c08>"
      ]
     },
     "execution_count": 118,
     "metadata": {},
     "output_type": "execute_result"
    },
    {
     "data": {
      "image/png": "[encoded data removed]",
      "text/plain": [
       "<Figure size 1296x360 with 1 Axes>"
      ]
     },
     "metadata": {
      "needs_background": "light"
     },
     "output_type": "display_data"
    }
   ],
   "source": [
    "plt.figure(figsize=(18,))\n",
    "sns.countplot(df[\"payment_installments\"])"
   ]
  },
  {
   "cell_type": "markdown",
   "metadata": {},
   "source": [
    "### Correlation between features"
   ]
  },
  {
   "cell_type": "code",
   "execution_count": 115,
   "metadata": {},
   "outputs": [
    {
     "data": {
      "text/plain": [
       "<matplotlib.axes._subplots.AxesSubplot at 0x1bcc9146688>"
      ]
     },
     "execution_count": 115,
     "metadata": {},
     "output_type": "execute_result"
    },
    {
     "data": {
      "image/png": "[encoded data removed]",
      "text/plain": [
       "<Figure size 1296x576 with 2 Axes>"
      ]
     },
     "metadata": {
      "needs_background": "light"
     },
     "output_type": "display_data"
    }
   ],
   "source": [
    "plt.figure(figsize=(18,8))\n",
    "sns.heatmap(df.corr(),annot=True)"
   ]
  },
  {
   "cell_type": "markdown",
   "metadata": {},
   "source": [
    "### Train Test Split"
   ]
  },
  {
   "cell_type": "code",
   "execution_count": 93,
   "metadata": {
    "scrolled": true
   },
   "outputs": [
    {
     "name": "stdout",
     "output_type": "stream",
     "text": [
      "X_train (70934, 7)\n",
      "y_train (70934,)\n",
      "X_test (30401, 7)\n",
      "y_test (30401,)\n"
     ]
    }
   ],
   "source": [
    "\n",
    "X_train, X_test, y_train, y_test = train_test_split(X, y, random_state = 10, test_size = 0.3)\n",
    "\n",
    "\n",
    "print('X_train', X_train.shape)\n",
    "print('y_train', y_train.shape)\n",
    "\n",
    "\n",
    "print('X_test', X_test.shape)\n",
    "print('y_test', y_test.shape)"
   ]
  },
  {
   "cell_type": "markdown",
   "metadata": {},
   "source": [
    "### Benchmarking"
   ]
  },
  {
   "cell_type": "markdown",
   "metadata": {},
   "source": [
    "The initial benchmarking will be made by looking at three different metrics used for estimating errors, as well as one statistical measure that represents the proportion of the variance for a dependent variable that's explained by an independent variable or variables in a regression model. These are:\n",
    "\n",
    "Error Metrics:\n",
    "\n",
    "Mean Absolute Error (MAE)\n",
    "\n",
    "\n",
    "Root Mean Squared Error (RMSE)\n",
    "\n",
    "Model Valuation Metric (robustness of the model):\n",
    "\n",
    "R-squared (R^2)"
   ]
  },
  {
   "cell_type": "markdown",
   "metadata": {},
   "source": [
    "### Linear Regression"
   ]
  },
  {
   "cell_type": "code",
   "execution_count": 128,
   "metadata": {},
   "outputs": [],
   "source": [
    "reg = LinearRegression()\n",
    "reg.fit(X_train, y_train)\n",
    "y_pred = reg.predict(X_test)"
   ]
  },
  {
   "cell_type": "code",
   "execution_count": 129,
   "metadata": {},
   "outputs": [
    {
     "name": "stdout",
     "output_type": "stream",
     "text": [
      "MAE:  0.6217387362333874\n",
      "RMSE:  0.8294019866218859\n",
      "R^2: 0.31120461678083444\n"
     ]
    }
   ],
   "source": [
    "print(\"MAE: \", metrics.mean_absolute_error(y_test, y_pred)) #MAE\n",
    "\n",
    "print(\"RMSE: \", np.sqrt(metrics.mean_squared_error(y_test, y_pred))) #RMSE\n",
    "\n",
    "# rSquared\n",
    "score = r2_score(y_test, y_pred)\n",
    "print(\"R^2:\", score)"
   ]
  },
  {
   "cell_type": "markdown",
   "metadata": {},
   "source": [
    "### KNN Regressor"
   ]
  },
  {
   "cell_type": "code",
   "execution_count": 130,
   "metadata": {},
   "outputs": [],
   "source": [
    "knn = KNeighborsRegressor(n_neighbors=5)\n",
    "knn.fit(X_train, y_train)\n",
    "y_pred = knn.predict(X_test)"
   ]
  },
  {
   "cell_type": "code",
   "execution_count": 131,
   "metadata": {
    "scrolled": true
   },
   "outputs": [
    {
     "name": "stdout",
     "output_type": "stream",
     "text": [
      "MAE:  0.30508192875621354\n",
      "RMSE:  0.5785483461853519\n",
      "R^2: 0.6648498655861514\n"
     ]
    }
   ],
   "source": [
    "print(\"MAE: \", metrics.mean_absolute_error(y_test, y_pred)) #MAE\n",
    "\n",
    "print(\"RMSE: \", np.sqrt(metrics.mean_squared_error(y_test, y_pred))) #RMSE\n",
    "\n",
    "# rSquared\n",
    "score = r2_score(y_test, y_pred)\n",
    "print(\"R^2:\", score)"
   ]
  },
  {
   "cell_type": "code",
   "execution_count": 132,
   "metadata": {},
   "outputs": [
    {
     "name": "stdout",
     "output_type": "stream",
     "text": [
      "MAE: 0.2934906084686574\n",
      "RSME: 0.5669057260088195\n",
      "r2: 0.6785488926753347\n"
     ]
    }
   ],
   "source": [
    "knn = KNeighborsRegressor()\n",
    "kfold = KFold(shuffle=True,n_splits=5,random_state=0)\n",
    "scores = ['r2','neg_mean_absolute_error','neg_mean_squared_error']\n",
    "knn_model = cross_validate(knn,X,y,cv=kfold,scoring=scores)\n",
    "\n",
    "\n",
    "print('MAE:',np.mean(np.abs(knn_model['test_neg_mean_absolute_error'])))\n",
    "print('RSME:',np.mean(np.sqrt(np.abs(knn_model['test_neg_mean_squared_error']))))\n",
    "print('r2:',knn_model['test_r2'].mean())"
   ]
  },
  {
   "cell_type": "markdown",
   "metadata": {},
   "source": [
    "### XGBoost"
   ]
  },
  {
   "cell_type": "code",
   "execution_count": 133,
   "metadata": {},
   "outputs": [],
   "source": [
    "xg = XGBRegressor()\n",
    "xg.fit(X_train, y_train)\n",
    "y_pred = xg.predict(X_test)"
   ]
  },
  {
   "cell_type": "code",
   "execution_count": 134,
   "metadata": {},
   "outputs": [
    {
     "name": "stdout",
     "output_type": "stream",
     "text": [
      "MAE:  0.2938279340419469\n",
      "RMSE:  0.5000440660025565\n",
      "R^2: 0.749633256373362\n"
     ]
    }
   ],
   "source": [
    "# Print out the MAE, MSE & RMSE\n",
    "print(\"MAE: \", metrics.mean_absolute_error(y_test, y_pred)) #MAE\n",
    "print(\"RMSE: \", np.sqrt(metrics.mean_squared_error(y_test, y_pred))) #RMSE\n",
    "\n",
    "# rSquared\n",
    "score = r2_score(y_test, y_pred)\n",
    "print(\"R^2:\", score)"
   ]
  },
  {
   "cell_type": "code",
   "execution_count": 135,
   "metadata": {},
   "outputs": [
    {
     "name": "stdout",
     "output_type": "stream",
     "text": [
      "MAE: 0.2925315938251695\n",
      "RMSE: 0.4951245261448191\n",
      "r^2: 0.7547804655003911\n"
     ]
    }
   ],
   "source": [
    "xgb = XGBRegressor()\n",
    "kfold = KFold(shuffle=True,n_splits=5,random_state=0)\n",
    "scores = ['r2','neg_mean_absolute_error','neg_mean_squared_error']\n",
    "xgb_model = cross_validate(xgb,X,y,cv=kfold,scoring=scores)\n",
    "\n",
    "\n",
    "print('MAE:',np.mean(np.abs(xgb_model['test_neg_mean_absolute_error'])))\n",
    "print('RMSE:',np.mean(np.sqrt(np.abs(xgb_model['test_neg_mean_squared_error']))))\n",
    "print('r^2:',xgb_model['test_r2'].mean())"
   ]
  },
  {
   "cell_type": "markdown",
   "metadata": {},
   "source": [
    "### Decision Tree"
   ]
  },
  {
   "cell_type": "code",
   "execution_count": 98,
   "metadata": {},
   "outputs": [],
   "source": [
    "# Decision Tree Regressor\n",
    "dt = DecisionTreeRegressor()\n",
    "dt.fit(X_train, y_train)\n",
    "y_pred = dt.predict(X_test)"
   ]
  },
  {
   "cell_type": "code",
   "execution_count": 99,
   "metadata": {
    "scrolled": true
   },
   "outputs": [
    {
     "name": "stdout",
     "output_type": "stream",
     "text": [
      "MAE:  0.15091976414793773\n",
      "MSE:  0.242918038807776\n",
      "RMSE:  0.4928671614215903\n",
      "R^2: 0.7567684814742202\n"
     ]
    }
   ],
   "source": [
    "# Print out the MAE, MSE & RMSE\n",
    "print(\"MAE: \", metrics.mean_absolute_error(y_test, y_pred)) #MAE\n",
    "print(\"MSE: \", metrics.mean_squared_error(y_test, y_pred)) #MSE\n",
    "print(\"RMSE: \", np.sqrt(metrics.mean_squared_error(y_test, y_pred))) #RMSE\n",
    "\n",
    "# rSquared\n",
    "score = r2_score(y_test, y_pred)\n",
    "print(\"R^2:\", score)"
   ]
  },
  {
   "cell_type": "code",
   "execution_count": 126,
   "metadata": {},
   "outputs": [
    {
     "name": "stdout",
     "output_type": "stream",
     "text": [
      "MAE: 0.1405469047327471\n",
      "RMSE: 0.47683058502611403\n",
      "r^2: 0.7725939467082098\n"
     ]
    }
   ],
   "source": [
    "dt = DecisionTreeRegressor()\n",
    "kfold = KFold(shuffle=True,n_splits=5,random_state=0)\n",
    "scores = ['r2','neg_mean_absolute_error','neg_mean_squared_error']\n",
    "dt_model = cross_validate(dt,X,y,cv=kfold,scoring=scores)\n",
    "\n",
    "print('MAE:',np.mean(np.abs(dt_model['test_neg_mean_absolute_error'])))\n",
    "print('RMSE:',np.mean(np.sqrt(np.abs(dt_model['test_neg_mean_squared_error']))))\n",
    "print('r^2:',dt_model['test_r2'].mean())\n"
   ]
  },
  {
   "cell_type": "markdown",
   "metadata": {},
   "source": [
    "### Random Forest"
   ]
  },
  {
   "cell_type": "code",
   "execution_count": 100,
   "metadata": {},
   "outputs": [],
   "source": [
    "#Random Forest\n",
    "rf = RandomForestRegressor(n_estimators=100)\n",
    "rf.fit(X_train, y_train)\n",
    "y_pred = rf.predict(X_test)"
   ]
  },
  {
   "cell_type": "code",
   "execution_count": 101,
   "metadata": {
    "scrolled": true
   },
   "outputs": [
    {
     "name": "stdout",
     "output_type": "stream",
     "text": [
      "MAE:  0.17243977632870328\n",
      "MSE:  0.15249765562643555\n",
      "RMSE:  0.39050948212103065\n",
      "R^2: 0.8473055499225775\n"
     ]
    }
   ],
   "source": [
    "print(\"MAE: \", metrics.mean_absolute_error(y_test, y_pred)) #MAE\n",
    "print(\"MSE: \", metrics.mean_squared_error(y_test, y_pred)) #MSE\n",
    "print(\"RMSE: \", np.sqrt(metrics.mean_squared_error(y_test, y_pred))) #RMSE\n",
    "\n",
    "score = r2_score(y_test, y_pred)\n",
    "print(\"R^2:\", score)"
   ]
  },
  {
   "cell_type": "code",
   "execution_count": 127,
   "metadata": {},
   "outputs": [
    {
     "name": "stdout",
     "output_type": "stream",
     "text": [
      "MAE: 0.16142175038712267\n",
      "RMSE: 0.3743252708575469\n",
      "r^2: 0.8598527030287688\n"
     ]
    }
   ],
   "source": [
    "rf = RandomForestRegressor()\n",
    "kfold = KFold(shuffle=True,n_splits=5,random_state=0)\n",
    "scores = ['r2','neg_mean_absolute_error','neg_mean_squared_error']\n",
    "rf_model = cross_validate(rf,X,y,cv=kfold,scoring=scores)\n",
    "\n",
    "\n",
    "print('MAE:',np.mean(np.abs(rf_model['test_neg_mean_absolute_error'])))\n",
    "print('RMSE:',np.mean(np.sqrt(np.abs(rf_model['test_neg_mean_squared_error']))))\n",
    "print('r^2:',rf_model['test_r2'].mean())"
   ]
  },
  {
   "cell_type": "markdown",
   "metadata": {},
   "source": [
    "### Result"
   ]
  },
  {
   "cell_type": "markdown",
   "metadata": {},
   "source": [
    "Linear Regression \n",
    "\n",
    "MAE:  0.6217387362333874\n",
    "\n",
    "RMSE:  0.8294019866218859\n",
    "\n",
    "R^2: 0.31120461678083444\n",
    "\n",
    "KNN Regressor \n",
    "\n",
    "MAE: 0.2934906084686574\n",
    "\n",
    "RSME: 0.5669057260088195\n",
    "\n",
    "r2: 0.6785488926753347\n",
    "    \n",
    "XGBoost\n",
    "\n",
    "MAE: 0.2925315938251695\n",
    "\n",
    "RMSE: 0.4951245261448191\n",
    "\n",
    "r^2: 0.7547804655003911\n",
    "    \n",
    "Decision Tree\n",
    "\n",
    "MAE: 0.1405469047327471\n",
    "\n",
    "RMSE: 0.47683058502611403\n",
    "\n",
    "r^2: 0.7725939467082098\n",
    "    \n",
    "Random Forest\n",
    "\n",
    " MAE: 0.16142175038712267\n",
    " \n",
    "RMSE: 0.3743252708575469\n",
    "\n",
    "r^2: 0.8598527030287688   \n"
   ]
  },
  {
   "cell_type": "markdown",
   "metadata": {},
   "source": [
    "### Conclusion "
   ]
  },
  {
   "cell_type": "markdown",
   "metadata": {},
   "source": [
    "Random Forest is having highest r squared value which is 0.85.\n",
    "Random Forest is chosen as final model.\n"
   ]
  }
 ],
 "metadata": {
  "kernelspec": {
   "display_name": "Python 3",
   "language": "python",
   "name": "python3"
  },
  "language_info": {
   "codemirror_mode": {
    "name": "ipython",
    "version": 3
   },
   "file_extension": ".py",
   "mimetype": "text/x-python",
   "name": "python",
   "nbconvert_exporter": "python",
   "pygments_lexer": "ipython3",
   "version": "3.7.6"
  }
 },
 "nbformat": 4,
 "nbformat_minor": 4
}
